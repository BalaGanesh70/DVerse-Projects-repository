{
 "cells": [
  {
   "cell_type": "code",
   "execution_count": 2,
   "metadata": {},
   "outputs": [],
   "source": [
    "import cv2\n",
    "import mediapipe as mp"
   ]
  },
  {
   "cell_type": "code",
   "execution_count": 3,
   "metadata": {},
   "outputs": [],
   "source": [
    "# Initialize MediaPipe Hands\n",
    "mp_hands = mp.solutions.hands\n",
    "mp_draw = mp.solutions.drawing_utils  # Utility to draw landmarks"
   ]
  },
  {
   "cell_type": "code",
   "execution_count": 4,
   "metadata": {},
   "outputs": [],
   "source": [
    "# Open webcam\n",
    "cap = cv2.VideoCapture(0)"
   ]
  },
  {
   "cell_type": "code",
   "execution_count": 5,
   "metadata": {},
   "outputs": [
    {
     "ename": "KeyboardInterrupt",
     "evalue": "",
     "output_type": "error",
     "traceback": [
      "\u001b[1;31m---------------------------------------------------------------------------\u001b[0m",
      "\u001b[1;31mKeyboardInterrupt\u001b[0m                         Traceback (most recent call last)",
      "Cell \u001b[1;32mIn[5], line 4\u001b[0m\n\u001b[0;32m      2\u001b[0m \u001b[38;5;28;01mwith\u001b[39;00m mp_hands\u001b[38;5;241m.\u001b[39mHands(min_detection_confidence\u001b[38;5;241m=\u001b[39m\u001b[38;5;241m0.5\u001b[39m, min_tracking_confidence\u001b[38;5;241m=\u001b[39m\u001b[38;5;241m0.5\u001b[39m) \u001b[38;5;28;01mas\u001b[39;00m hands:\n\u001b[0;32m      3\u001b[0m     \u001b[38;5;28;01mwhile\u001b[39;00m cap\u001b[38;5;241m.\u001b[39misOpened():\n\u001b[1;32m----> 4\u001b[0m         ret, frame \u001b[38;5;241m=\u001b[39m cap\u001b[38;5;241m.\u001b[39mread()\n\u001b[0;32m      5\u001b[0m         \u001b[38;5;28;01mif\u001b[39;00m \u001b[38;5;129;01mnot\u001b[39;00m ret:\n\u001b[0;32m      6\u001b[0m             \u001b[38;5;28;01mbreak\u001b[39;00m\n",
      "\u001b[1;31mKeyboardInterrupt\u001b[0m: "
     ]
    }
   ],
   "source": [
    "# Initialize Hand Detector\n",
    "with mp_hands.Hands(min_detection_confidence=0.5, min_tracking_confidence=0.5) as hands:\n",
    "    while cap.isOpened():\n",
    "        ret, frame = cap.read()\n",
    "        if not ret:\n",
    "            break\n",
    "\n",
    "        # Convert the frame to RGB\n",
    "        frame_rgb = cv2.cvtColor(frame, cv2.COLOR_BGR2RGB)\n",
    "\n",
    "        # Process frame\n",
    "        results = hands.process(frame_rgb)\n",
    "\n",
    "        # Draw hand landmarks if detected\n",
    "        if results.multi_hand_landmarks:\n",
    "            for hand_landmarks in results.multi_hand_landmarks:\n",
    "                mp_draw.draw_landmarks(frame, hand_landmarks, mp_hands.HAND_CONNECTIONS)\n",
    "\n",
    "                # Define finger structure (Tip, DIP, PIP, MCP)\n",
    "                fingers = {\n",
    "                    \"Thumb\": (4, 3, 2, 1),\n",
    "                    \"Index\": (8, 7, 6, 5),\n",
    "                    \"Middle\": (12, 11, 10, 9),\n",
    "                    \"Ring\": (16, 15, 14, 13),\n",
    "                    \"Pinky\": (20, 19, 18, 17)\n",
    "                }\n",
    "\n",
    "                h, w, _ = frame.shape\n",
    "                extended_fingers = []\n",
    "\n",
    "                for finger_name, (tip, dip, pip, mcp) in fingers.items():\n",
    "                    # Get joint coordinates\n",
    "                    tip_x, tip_y = int(hand_landmarks.landmark[tip].x * w), int(hand_landmarks.landmark[tip].y * h)\n",
    "                    dip_x, dip_y = int(hand_landmarks.landmark[dip].x * w), int(hand_landmarks.landmark[dip].y * h)\n",
    "                    pip_x, pip_y = int(hand_landmarks.landmark[pip].x * w), int(hand_landmarks.landmark[pip].y * h)\n",
    "                    mcp_x, mcp_y = int(hand_landmarks.landmark[mcp].x * w), int(hand_landmarks.landmark[mcp].y * h)\n",
    "\n",
    "                    # Draw circles for each joint\n",
    "                    cv2.circle(frame, (tip_x, tip_y), 6, (0, 255, 0), -1)  # Tip\n",
    "                    cv2.circle(frame, (dip_x, dip_y), 5, (255, 0, 0), -1)  # DIP\n",
    "                    cv2.circle(frame, (pip_x, pip_y), 4, (0, 0, 255), -1)  # PIP\n",
    "                    cv2.circle(frame, (mcp_x, mcp_y), 3, (255, 255, 0), -1)  # MCP\n",
    "\n",
    "                    # Display joint names\n",
    "                    cv2.putText(frame, f\"{finger_name} Tip\", (tip_x + 10, tip_y - 10), cv2.FONT_HERSHEY_SIMPLEX, 0.5, (0, 255, 0), 1)\n",
    "                    cv2.putText(frame, f\"DIP\", (dip_x + 10, dip_y - 10), cv2.FONT_HERSHEY_SIMPLEX, 0.4, (255, 0, 0), 1)\n",
    "                    cv2.putText(frame, f\"PIP\", (pip_x + 10, pip_y - 10), cv2.FONT_HERSHEY_SIMPLEX, 0.4, (0, 0, 255), 1)\n",
    "                    cv2.putText(frame, f\"MCP\", (mcp_x + 10, mcp_y - 10), cv2.FONT_HERSHEY_SIMPLEX, 0.4, (255, 255, 0), 1)\n",
    "\n",
    "                    # Check if finger is extended\n",
    "                    if tip_y < pip_y:  # Tip above PIP joint\n",
    "                        extended_fingers.append(finger_name)\n",
    "\n",
    "                # Gesture Recognition\n",
    "                if extended_fingers == [\"Thumb\"]:\n",
    "                    cv2.putText(frame, \"👍 Thumbs Up\", (50, 50), cv2.FONT_HERSHEY_SIMPLEX, 1, (0, 255, 255), 3)\n",
    "                elif extended_fingers == [\"Index\", \"Middle\"]:\n",
    "                    cv2.putText(frame, \"✌ Victory Sign\", (50, 100), cv2.FONT_HERSHEY_SIMPLEX, 1, (255, 0, 255), 3)\n",
    "                elif extended_fingers == [\"Index\", \"Pinky\", \"Thumb\"]:\n",
    "                    cv2.putText(frame, \"🤘 Rock Sign\", (50, 150), cv2.FONT_HERSHEY_SIMPLEX, 1, (255, 255, 0), 3)\n",
    "\n",
    "        # Display output\n",
    "        cv2.imshow(\"Hand Gesture & Joint Detection\", frame)\n",
    "\n",
    "        # Press 'q' to exit\n",
    "        if cv2.waitKey(1) & 0xFF == ord('q'):\n",
    "            break"
   ]
  },
  {
   "cell_type": "code",
   "execution_count": null,
   "metadata": {},
   "outputs": [],
   "source": [
    "# Release resources\n",
    "cap.release()\n",
    "cv2.destroyAllWindows()"
   ]
  }
 ],
 "metadata": {
  "kernelspec": {
   "display_name": "base",
   "language": "python",
   "name": "python3"
  },
  "language_info": {
   "codemirror_mode": {
    "name": "ipython",
    "version": 3
   },
   "file_extension": ".py",
   "mimetype": "text/x-python",
   "name": "python",
   "nbconvert_exporter": "python",
   "pygments_lexer": "ipython3",
   "version": "3.12.7"
  }
 },
 "nbformat": 4,
 "nbformat_minor": 2
}
